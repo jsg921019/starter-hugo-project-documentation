{
 "cells": [
  {
   "cell_type": "markdown",
   "metadata": {},
   "source": [
    "## AlexNet"
   ]
  },
  {
   "cell_type": "markdown",
   "metadata": {},
   "source": [
    "* 첫 성공적 모델"
   ]
  },
  {
   "cell_type": "markdown",
   "metadata": {},
   "source": [
    "* https://arxiv.org/abs/1404.5997 버전이 여러개 있는듯 https://github.com/pytorch/vision/pull/704\n",
    "* BUG : https://github.com/pytorch/vision/issues/549 : Dropout 순서가 잘못된듯\n",
    "참조 : https://github.com/akrizhevsky/cuda-convnet2/blob/master/layers/layers-imagenet-1gpu.cfg\n",
    "\n",
    "<img src='img/alexnet.png'/>"
   ]
  },
  {
   "cell_type": "code",
   "execution_count": 1,
   "metadata": {},
   "outputs": [],
   "source": [
    "import torch\n",
    "import torch.nn as nn\n",
    "import torchinfo"
   ]
  },
  {
   "cell_type": "code",
   "execution_count": 3,
   "metadata": {},
   "outputs": [],
   "source": [
    "class AlexNet(nn.Module):\n",
    "    \n",
    "    def __init__(self, num_classes=1000):\n",
    "        super(AlexNet, self).__init__()\n",
    "\n",
    "        # Convolution Layers\n",
    "        self.features = nn.Sequential(\n",
    "            nn.Conv2d(3, 64, kernel_size=11, stride=4), # (227-11)/4 + 1 = 55\n",
    "            nn.ReLU(inplace=True),\n",
    "            nn.MaxPool2d(kernel_size=3, stride=2), # (55-3)/2 + 1 = 27\n",
    "            \n",
    "            nn.Conv2d(64, 192, kernel_size=5, padding=2), # (27+2*2-5) + 1 = 27\n",
    "            nn.ReLU(inplace=True),\n",
    "            nn.MaxPool2d(kernel_size=3, stride=2), # (27-3)/2 + 1 = 13\n",
    "            \n",
    "            nn.Conv2d(192, 384, kernel_size=3, padding=1), # (13+1*2-3) + 1 = 13\n",
    "            nn.ReLU(inplace=True),\n",
    "\n",
    "            nn.Conv2d(384, 256, kernel_size=3, padding=1), # (13+1*2-3) + 1 = 13\n",
    "            nn.ReLU(inplace=True),\n",
    "            \n",
    "            nn.Conv2d(256, 256, kernel_size=3, padding=1), # (13+1*2-3) + 1 = 13\n",
    "            nn.ReLU(inplace=True),\n",
    "            nn.MaxPool2d(kernel_size=3, stride=2), # (13-3)/2 + 1 = 6\n",
    "        )\n",
    "        \n",
    "        # Linear Layers\n",
    "        self.classifier = nn.Sequential(\n",
    "            nn.Linear(6*6*256, 4096),\n",
    "            nn.ReLU(inplace=True),\n",
    "            nn.Dropout(),\n",
    "            nn.Linear(4096, 4096),\n",
    "            nn.ReLU(inplace=True),\n",
    "            nn.Dropout(),\n",
    "            nn.Linear(4096, num_classes)\n",
    "        )\n",
    "        \n",
    "    def forward(self, x):\n",
    "        x = self.features(x)\n",
    "        x = torch.flatten(x, 1)\n",
    "        x = self.classifier(x)\n",
    "        return x"
   ]
  }
 ],
 "metadata": {
  "kernelspec": {
   "display_name": "pytorch",
   "language": "python",
   "name": "pytorch"
  },
  "language_info": {
   "codemirror_mode": {
    "name": "ipython",
    "version": 3
   },
   "file_extension": ".py",
   "mimetype": "text/x-python",
   "name": "python",
   "nbconvert_exporter": "python",
   "pygments_lexer": "ipython3",
   "version": "3.8.10"
  },
  "nikola": {
   "date": "2012-09-15 19:52:05 UTC",
   "slug": "how-to-make-money",
   "title": "How to make money"
  }
 },
 "nbformat": 4,
 "nbformat_minor": 4
}
